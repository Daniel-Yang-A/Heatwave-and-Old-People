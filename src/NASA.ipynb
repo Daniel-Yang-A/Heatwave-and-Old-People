{
 "cells": [
  {
   "cell_type": "code",
   "execution_count": null,
   "metadata": {},
   "outputs": [],
   "source": [
    "from pyhdf.SD import SD\n",
    "import matplotlib.pyplot as plt\n",
    "\n",
    "# This is the satellite data for the region convering most area of CA\n",
    "hdf = SD('MOD11A2.A2013201.h08v05.061.2021306122004.hdf')\n",
    "print(hdf.info())   # The number of categories of the info\n",
    "\n",
    "data = hdf.datasets()\n",
    "for i in data:\n",
    "    print(i)        # Name of the dataset\n",
    "    img = hdf.select(i)[:]            # Graph\n",
    "    plt.imshow(img, cmap='gray')        # Show the graph\n",
    "    plt.show()\n",
    "\n"
   ]
  },
  {
   "cell_type": "code",
   "execution_count": 24,
   "metadata": {},
   "outputs": [
    {
     "name": "stdout",
     "output_type": "stream",
     "text": [
      "<pyhdf.SD.SD object at 0x000001B13A1679D0>\n"
     ]
    }
   ],
   "source": [
    "\n",
    "import numpy as np\n",
    " \n",
    "import matplotlib.pyplot as plt\n",
    "from matplotlib import cm, colors\n",
    " \n",
    "import seaborn as sns\n",
    "import cartopy\n",
    "from cartopy.mpl.ticker import LongitudeFormatter, LatitudeFormatter\n",
    " \n",
    "from pyhdf.SD import SD, SDC\n",
    " \n",
    "sns.set_context('talk', font_scale=1.3)\n",
    " \n",
    "data = SD('MOD11A2.A2013201.h08v05.061.2021306122004.hdf', SDC.READ)\n",
    "\n",
    "print(data.attributes()) \n",
    "# This would show all the global attributes of this dataset, including the longitude and the lattitude info\n",
    "# of the vertexes of the region\n"
   ]
  },
  {
   "cell_type": "code",
   "execution_count": 25,
   "metadata": {},
   "outputs": [],
   "source": [
    "\n",
    "import numpy as np\n",
    "# Select the target dataset, the emissivity data for daytime\n",
    "pp = data.select('LST_Day_1km')\n",
    "\n",
    "# Save the 1200*1200 emissivity matrix data in a txt file\n",
    "np.savetxt(r'heat_map.txt', pp, fmt='%d', delimiter=',')\n"
   ]
  },
  {
   "cell_type": "code",
   "execution_count": 29,
   "metadata": {},
   "outputs": [],
   "source": [
    "# This is the longitude and the lattitude info of the vertexes of the region\n",
    "(39.9958333333333, 39.9958333333333, 30.0041666666667, 30.0041666666667)\n",
    "(-130.546159706468, -117.4921081433, -103.936600651353, -115.484556991509)\n",
    "\n",
    "# Now construct and output the longtitude and latitude info matrix for each point in the \n",
    "# 1200*1200 emissivity matrix. \n",
    "lat_mat = []\n",
    "long_mat = []\n",
    "row_space = (39.9958333333333-30.0041666666667) / 1200\n",
    "col_left_space = (130.546159706468 -115.484556991509) /1200\n",
    "col_right_space = (117.4921081433 - 103.936600651353) / 1200\n",
    "for row_ind in range(1200):\n",
    "    latitude = 39.9958333333333 - row_space * (row_ind+0.5)\n",
    "    lat_mat.append([latitude]*1200)\n",
    "\n",
    "    long_left = -130.546159706468 + (row_ind+0.5) * col_left_space\n",
    "    long_right = -117.4921081433 + (row_ind+0.5) * col_right_space\n",
    "    col_space = (long_right - long_left) / 1200\n",
    "    long_mat.append(np.array([long_left]*1200) + (np.array(list(range(1200)))+0.5) * col_space)\n",
    "\n",
    "np.savetxt(r'lat_mat.txt', lat_mat, fmt='%.12f', delimiter=',')\n",
    "np.savetxt(r'long_mat.txt', long_mat, fmt='%.12f', delimiter=',')"
   ]
  },
  {
   "cell_type": "code",
   "execution_count": 31,
   "metadata": {},
   "outputs": [
    {
     "name": "stdout",
     "output_type": "stream",
     "text": [
      "-155.5619453659042 -140.01873882339825 -130.5670739433807 -117.52126781367787\n",
      "49.99167013888886 49.99167013888886 40.00832986111114 40.00832986111114\n"
     ]
    }
   ],
   "source": [
    "# Now we look at the satellite data for another region, which\n",
    "# serves as a supplement of the previous region to cover CA.\n",
    "# The two regions cover over 99% area of CA.\n",
    "\n",
    "sup_data = SD('MOD11A2.A2013201.h08v04.061.2021306122001.hdf', SDC.READ)\n",
    "pp = data.select('LST_Day_1km')\n",
    "np.savetxt(r'sup_heat_map.txt', pp, fmt='%d', delimiter=',')\n",
    "# print(sup_data.attributes())\n",
    "\n",
    "# This is the longitude and the lattitude info of the vertexes of the region\n",
    "(49.9958333333333, 49.9958333333333, 40.0041666666667, 40.0041666666667)\n",
    "(-155.578850753484, -140.021638415982, -117.506446197461, -130.562090579434)\n",
    "\n",
    "# Now construct and output the longtitude and latitude info matrix for each point in the \n",
    "# 1200*1200 emissivity matrix. \n",
    "lat_mat = []\n",
    "long_mat = []\n",
    "row_space = (49.9958333333333-40.0041666666667) / 1200\n",
    "col_left_space = (155.578850753484 - 130.562090579434) /1200\n",
    "col_right_space = (140.021638415982 - 117.506446197461) / 1200\n",
    "for row_ind in range(1200):\n",
    "    latitude = 49.9958333333333 - row_space * (row_ind+0.5)\n",
    "    lat_mat.append([latitude]*1200)\n",
    "\n",
    "    long_left = -155.578850753484 + (row_ind+0.5) * col_left_space\n",
    "    long_right = -140.021638415982 + (row_ind+0.5) * col_right_space\n",
    "    col_space = (long_right - long_left) / 1200\n",
    "    long_mat.append(np.array([long_left]*1200) + (np.array(list(range(1200)))+0.5) * col_space)\n",
    "np.savetxt(r'sup_lat_mat.txt', lat_mat, fmt='%.12f', delimiter=',')\n",
    "np.savetxt(r'sup_long_mat.txt', long_mat, fmt='%.12f', delimiter=',')\n"
   ]
  }
 ],
 "metadata": {
  "language_info": {
   "name": "python"
  },
  "orig_nbformat": 4
 },
 "nbformat": 4,
 "nbformat_minor": 2
}
